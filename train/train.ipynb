{
 "cells": [
  {
   "cell_type": "code",
   "execution_count": 1,
   "id": "c28bdc06",
   "metadata": {},
   "outputs": [
    {
     "name": "stderr",
     "output_type": "stream",
     "text": [
      "D:\\ProgramData\\Anaconda3\\envs\\mlenv\\lib\\site-packages\\tqdm\\auto.py:22: TqdmWarning: IProgress not found. Please update jupyter and ipywidgets. See https://ipywidgets.readthedocs.io/en/stable/user_install.html\n",
      "  from .autonotebook import tqdm as notebook_tqdm\n"
     ]
    }
   ],
   "source": [
    "%run ../models/model_vgg19_FC.ipynb\n",
    "%run ../dataset/dataset.ipynb\n",
    "%run utils.ipynb\n",
    "%run ../loss/loss.ipynb"
   ]
  },
  {
   "cell_type": "code",
   "execution_count": 2,
   "id": "fcf2f35b",
   "metadata": {},
   "outputs": [],
   "source": [
    "import torch\n",
    "import torchvision.transforms as transforms\n",
    "import torch.optim as optim\n",
    "import torchvision.transforms.functional as FT\n",
    "from tqdm import tqdm\n",
    "from torch.utils.data import DataLoader\n",
    "# from utils import (\n",
    "#     non_max_suppression,\n",
    "#     mean_average_precision,\n",
    "#     intersection_over_union,\n",
    "#     cellboxes_to_boxes,\n",
    "#     get_bboxes,\n",
    "#     plot_image,\n",
    "#     save_checkpoint,\n",
    "#     load_checkpoint,\n",
    "# )\n",
    "# from loss import YoloLoss\n",
    "from tqdm import tqdm"
   ]
  },
  {
   "cell_type": "code",
   "execution_count": 18,
   "id": "ef4ffa21",
   "metadata": {},
   "outputs": [],
   "source": [
    "seed = 123\n",
    "torch.manual_seed(seed)\n",
    "\n",
    "# Hyperparameters etc. \n",
    "LEARNING_RATE = 2e-5\n",
    "DEVICE = \"cuda\" if torch.cuda.is_available else \"cpu\"\n",
    "BATCH_SIZE = 16 # 64 in original paper but I don't have that much vram, grad accum?\n",
    "WEIGHT_DECAY = 0\n",
    "EPOCHS = 300\n",
    "# NUM_WORKERS = 2\n",
    "PIN_MEMORY = True\n",
    "LOAD_MODEL = False\n",
    "LOAD_MODEL_FILE = \"overfit.pth.tar\"\n",
    "SAVE_MODEL_PATH = \"../output/trained_models/best_model.pth\"\n",
    "IMG_DIR = \"../dataset/data/preprocessed/training_images/\"\n",
    "LABEL_DIR = \"../dataset/labels/\""
   ]
  },
  {
   "cell_type": "code",
   "execution_count": 4,
   "id": "cba50370",
   "metadata": {},
   "outputs": [],
   "source": [
    "class Compose(object):\n",
    "    def __init__(self, transforms):\n",
    "        self.transforms = transforms\n",
    "\n",
    "    def __call__(self, img, bboxes):\n",
    "        for t in self.transforms:\n",
    "            img, bboxes = t(img), bboxes\n",
    "\n",
    "        return img, bboxes"
   ]
  },
  {
   "cell_type": "code",
   "execution_count": 5,
   "id": "89739b88",
   "metadata": {},
   "outputs": [],
   "source": [
    "transform = Compose([transforms.Resize((448, 448)), transforms.ToTensor(),])"
   ]
  },
  {
   "cell_type": "code",
   "execution_count": 6,
   "id": "74542673",
   "metadata": {},
   "outputs": [],
   "source": [
    "def train_fn(train_loader, model, optimizer, loss_fn):\n",
    "    mean_loss = []\n",
    "\n",
    "    for batch_idx, (x, y) in enumerate(train_loader):\n",
    "        x, y = x.to(DEVICE), y.to(DEVICE)\n",
    "        out = model(x)\n",
    "        loss = loss_fn(out, y)\n",
    "        mean_loss.append(loss.item())\n",
    "        optimizer.zero_grad()\n",
    "        loss.backward()\n",
    "        optimizer.step()\n",
    "\n",
    "    mean_loss = sum(mean_loss)/len(mean_loss)\n",
    "    return mean_loss"
   ]
  },
  {
   "cell_type": "code",
   "execution_count": 7,
   "id": "dfa803f2",
   "metadata": {},
   "outputs": [],
   "source": [
    "model = Yolov1(split_size=7, num_boxes=2, num_classes=1).to(DEVICE)\n",
    "optimizer = optim.Adam(\n",
    "    model.parameters(), lr=LEARNING_RATE, weight_decay=WEIGHT_DECAY\n",
    ")\n",
    "loss_fn = YoloLoss(S=7, B=2, C=1)"
   ]
  },
  {
   "cell_type": "code",
   "execution_count": 8,
   "id": "7565eb15",
   "metadata": {},
   "outputs": [],
   "source": [
    "if LOAD_MODEL:\n",
    "    load_checkpoint(torch.load(LOAD_MODEL_FILE), model, optimizer)"
   ]
  },
  {
   "cell_type": "code",
   "execution_count": 9,
   "id": "8713070f",
   "metadata": {},
   "outputs": [],
   "source": [
    "train_dataset = VOCDataset(\n",
    "    \"../dataset/train_map.csv\",# link of the train.csv file\n",
    "    transform=transform,\n",
    "    img_dir=IMG_DIR,\n",
    "    label_dir=LABEL_DIR,\n",
    ")\n",
    "\n",
    "test_dataset = VOCDataset(\n",
    "    \"../dataset/val_map.csv\", \n",
    "    transform=transform, \n",
    "    img_dir=IMG_DIR, \n",
    "    label_dir=LABEL_DIR,\n",
    ")"
   ]
  },
  {
   "cell_type": "code",
   "execution_count": 10,
   "id": "c2764731",
   "metadata": {},
   "outputs": [],
   "source": [
    "train_loader = DataLoader(\n",
    "    dataset=train_dataset,\n",
    "    batch_size=BATCH_SIZE,\n",
    "    # num_workers=NUM_WORKERS,\n",
    "    pin_memory=PIN_MEMORY,\n",
    "    shuffle=True,\n",
    "    drop_last=True,\n",
    ")\n",
    "\n",
    "test_loader = DataLoader(\n",
    "    dataset=test_dataset,\n",
    "    batch_size=BATCH_SIZE,\n",
    "    # num_workers=NUM_WORKERS,\n",
    "    pin_memory=PIN_MEMORY,\n",
    "    shuffle=True,\n",
    "    drop_last=True,\n",
    ")"
   ]
  },
  {
   "cell_type": "code",
   "execution_count": 11,
   "id": "392ac8d2",
   "metadata": {},
   "outputs": [],
   "source": [
    "# early stopping variables\n",
    "EARLY_STOPPING_LIMIT = 10\n",
    "epochs_since_last_improvement = 0\n",
    "best_loss = float('inf')\n",
    "best_model = model.state_dict()"
   ]
  },
  {
   "cell_type": "code",
   "execution_count": 12,
   "id": "ac7f110f",
   "metadata": {},
   "outputs": [
    {
     "name": "stderr",
     "output_type": "stream",
     "text": [
      " 15%|███████████▊                                                                   | 45/300 [12:35<1:11:18, 16.78s/it]"
     ]
    },
    {
     "name": "stdout",
     "output_type": "stream",
     "text": [
      "Early stopped at epoch 45!\n",
      "Best model at epoch 35!\n"
     ]
    },
    {
     "name": "stderr",
     "output_type": "stream",
     "text": [
      "\n"
     ]
    }
   ],
   "source": [
    "mean_loss_history = []\n",
    "mean_avg_prec_history = []\n",
    "for epoch in tqdm(range(EPOCHS)):\n",
    "    # for x, y in train_loader:\n",
    "    #    x = x.to(DEVICE)\n",
    "    #    for idx in range(8):\n",
    "    #        bboxes = cellboxes_to_boxes(model(x))\n",
    "    #        bboxes = non_max_suppression(bboxes[idx], iou_threshold=0.5, threshold=0.4, box_format=\"midpoint\")\n",
    "    #        plot_image(x[idx].permute(1,2,0).to(\"cpu\"), bboxes)\n",
    "\n",
    "    #    import sys\n",
    "    #    sys.exit()\n",
    "\n",
    "    pred_boxes, target_boxes = get_bboxes(\n",
    "        train_loader, model, iou_threshold=0.5, threshold=0.4\n",
    "    )\n",
    "\n",
    "    mean_avg_prec = mean_average_precision(\n",
    "        pred_boxes, target_boxes, iou_threshold=0.5, box_format=\"midpoint\"\n",
    "    )\n",
    "    # print(f\"Train mAP: {mean_avg_prec}\")\n",
    "\n",
    "    #if mean_avg_prec > 0.9:\n",
    "    #    checkpoint = {\n",
    "    #        \"state_dict\": model.state_dict(),\n",
    "    #        \"optimizer\": optimizer.state_dict(),\n",
    "    #    }\n",
    "    #    save_checkpoint(checkpoint, filename=LOAD_MODEL_FILE)\n",
    "    #    import time\n",
    "    #    time.sleep(10)\n",
    "\n",
    "    mean_loss = train_fn(train_loader, model, optimizer, loss_fn)\n",
    "    #print(f\"Mean loss was {mean_loss}\")\n",
    "    \n",
    "    # append metrics\n",
    "    mean_avg_prec_history.append(mean_avg_prec)\n",
    "    mean_loss_history.append(mean_loss)\n",
    "\n",
    "    # early stopping\n",
    "    if mean_loss < best_loss:\n",
    "        epochs_since_last_improvement = 0\n",
    "        best_loss = mean_loss\n",
    "        best_model = model.state_dict() \n",
    "    else:\n",
    "        epochs_since_last_improvement += 1\n",
    "        if epochs_since_last_improvement >= EARLY_STOPPING_LIMIT:\n",
    "            print(f\"Early stopped at epoch {epoch}!\")\n",
    "            print(f\"Best model at epoch {epoch-epochs_since_last_improvement}!\")\n",
    "            model.load_state_dict(best_model)\n",
    "            break"
   ]
  },
  {
   "cell_type": "code",
   "execution_count": 13,
   "id": "f72e3c98",
   "metadata": {},
   "outputs": [],
   "source": [
    "num_epochs = len(mean_avg_prec_history)"
   ]
  },
  {
   "cell_type": "code",
   "execution_count": 14,
   "id": "838e3cff",
   "metadata": {},
   "outputs": [
    {
     "data": {
      "image/png": "[encoded data removed]",
      "text/plain": [
       "<Figure size 640x480 with 1 Axes>"
      ]
     },
     "metadata": {},
     "output_type": "display_data"
    }
   ],
   "source": [
    "plt.plot(range(num_epochs), mean_avg_prec_history, label = 'mean_avg_prec')\n",
    "plt.title(\"Mean training average precision\")\n",
    "plt.legend()\n",
    "plt.show()"
   ]
  },
  {
   "cell_type": "code",
   "execution_count": 17,
   "id": "5fd5724b",
   "metadata": {},
   "outputs": [
    {
     "data": {
      "image/png": "[encoded data removed]",
      "text/plain": [
       "<Figure size 640x480 with 1 Axes>"
      ]
     },
     "metadata": {},
     "output_type": "display_data"
    }
   ],
   "source": [
    "plt.plot(range(num_epochs), mean_loss_history, label = 'mean_avg_prec')\n",
    "plt.title(\"Mean training loss\")\n",
    "plt.legend()\n",
    "plt.show()"
   ]
  },
  {
   "cell_type": "code",
   "execution_count": 19,
   "id": "468429b8",
   "metadata": {},
   "outputs": [],
   "source": [
    "# saving a model\n",
    "torch.save(model.state_dict(), SAVE_MODEL_PATH)"
   ]
  },
  {
   "cell_type": "code",
   "execution_count": null,
   "id": "188aa67e",
   "metadata": {},
   "outputs": [],
   "source": []
  }
 ],
 "metadata": {
  "kernelspec": {
   "display_name": "Python 3",
   "language": "python",
   "name": "python3"
  },
  "language_info": {
   "codemirror_mode": {
    "name": "ipython",
    "version": 3
   },
   "file_extension": ".py",
   "mimetype": "text/x-python",
   "name": "python",
   "nbconvert_exporter": "python",
   "pygments_lexer": "ipython3",
   "version": "3.8.13"
  }
 },
 "nbformat": 4,
 "nbformat_minor": 5
}
