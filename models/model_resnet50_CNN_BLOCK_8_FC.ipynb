{
 "cells": [
  {
   "cell_type": "markdown",
   "metadata": {
    "colab_type": "text",
    "id": "view-in-github"
   },
   "source": [
    "<a href=\"https://colab.research.google.com/github/andricmitrovic/YOLO-object-detection/blob/main/models/model_resnet50%2BCNN_BLOCK_8%2BFC.ipynb\" target=\"_parent\"><img src=\"https://colab.research.google.com/assets/colab-badge.svg\" alt=\"Open In Colab\"/></a>"
   ]
  },
  {
   "cell_type": "code",
   "execution_count": 4,
   "metadata": {
    "id": "RfZ04XmvN19g"
   },
   "outputs": [],
   "source": [
    "import torch\n",
    "import torch.nn as nn\n",
    "from torchvision import models"
   ]
  },
  {
   "cell_type": "code",
   "execution_count": 5,
   "metadata": {
    "id": "70EFioRBsWD9"
   },
   "outputs": [],
   "source": [
    "device = torch.device(\"cuda:0\" if torch.cuda.is_available() else \"cpu\")"
   ]
  },
  {
   "cell_type": "code",
   "execution_count": 6,
   "metadata": {
    "id": "k6IPqITyjDHh"
   },
   "outputs": [],
   "source": [
    "class Yolov1(nn.Module):\n",
    "    def __init__(self, S, B, C):\n",
    "        super(Yolov1, self).__init__()\n",
    "        self.model = self._create_model(S, B, C)\n",
    "\n",
    "    def forward(self, x):\n",
    "        x = self.model(x)\n",
    "        return x\n",
    "\n",
    "    def _create_model(self, S, B, C):\n",
    "        model = self._create_darknet()\n",
    "\n",
    "        num_ftrs = model.fc.in_features\n",
    "        fcs_layers = self._create_fcs(num_ftrs, S, B, C)\n",
    "\n",
    "        model.fc = fcs_layers\n",
    "        return model\n",
    "\n",
    "    def _create_darknet(self):\n",
    "        darknet = models.resnet50(pretrained=True)\n",
    "        ct = 0\n",
    "        for child in darknet.children():\n",
    "            ct += 1\n",
    "            if ct < 8:\n",
    "                for param in child.parameters():\n",
    "                    param.requires_grad = False\n",
    "        return darknet\n",
    "\n",
    "    def _create_fcs(self, num_ftrs, S, B, C):\n",
    "\n",
    "        return nn.Sequential(\n",
    "          nn.Linear(num_ftrs, 512),\n",
    "          nn.Dropout(0.5),\n",
    "          nn.LeakyReLU(0.1),\n",
    "          nn.Linear(512, S * S * (C + B * 5)),\n",
    "        )\n",
    "    \n",
    "    def __str__(self):\n",
    "        return \"resnet50_fine_tunning\""
   ]
  },
  {
   "cell_type": "code",
   "execution_count": 7,
   "metadata": {
    "id": "vDKLhM8FjDKH"
   },
   "outputs": [],
   "source": [
    "def test(S = 7, B = 2, C = 3):\n",
    "    model = Yolov1(S, B, C)\n",
    "    x = torch.randn((2, 3, 224, 224))                  # !!! resnet accepets input in this shape (3 x H x W)\n",
    "    print(model(x).shape)"
   ]
  },
  {
   "cell_type": "code",
   "execution_count": 8,
   "metadata": {
    "colab": {
     "base_uri": "https://localhost:8080/"
    },
    "id": "ZF8wKlHojh4f",
    "outputId": "201f1c9f-5794-4462-e895-80d18b2c2496"
   },
   "outputs": [],
   "source": [
    "# test()"
   ]
  }
 ],
 "metadata": {
  "colab": {
   "authorship_tag": "ABX9TyN2IYw3rYiyQ9wY1SRWk4S+",
   "include_colab_link": true,
   "provenance": []
  },
  "kernelspec": {
   "display_name": "Python 3",
   "language": "python",
   "name": "python3"
  },
  "language_info": {
   "codemirror_mode": {
    "name": "ipython",
    "version": 3
   },
   "file_extension": ".py",
   "mimetype": "text/x-python",
   "name": "python",
   "nbconvert_exporter": "python",
   "pygments_lexer": "ipython3",
   "version": "3.8.13"
  }
 },
 "nbformat": 4,
 "nbformat_minor": 1
}
