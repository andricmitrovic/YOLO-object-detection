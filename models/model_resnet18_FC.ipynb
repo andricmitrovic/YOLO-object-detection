{
 "cells": [
  {
   "cell_type": "markdown",
   "metadata": {
    "colab_type": "text",
    "id": "view-in-github"
   },
   "source": [
    "<a href=\"https://colab.research.google.com/github/andricmitrovic/YOLO-object-detection/blob/main/model_resnet18%2BFC.ipynb\" target=\"_parent\"><img src=\"https://colab.research.google.com/assets/colab-badge.svg\" alt=\"Open In Colab\"/></a>"
   ]
  },
  {
   "cell_type": "code",
   "execution_count": 1,
   "metadata": {
    "id": "RfZ04XmvN19g"
   },
   "outputs": [],
   "source": [
    "import torch\n",
    "import torch.nn as nn\n",
    "from torchvision import models"
   ]
  },
  {
   "cell_type": "code",
   "execution_count": 2,
   "metadata": {
    "id": "70EFioRBsWD9"
   },
   "outputs": [],
   "source": [
    "device = torch.device(\"cuda:0\" if torch.cuda.is_available() else \"cpu\")"
   ]
  },
  {
   "cell_type": "code",
   "execution_count": 3,
   "metadata": {
    "id": "k6IPqITyjDHh"
   },
   "outputs": [],
   "source": [
    "class Yolov1(nn.Module):\n",
    "    def __init__(self, **kwargs):\n",
    "        super(Yolov1, self).__init__()\n",
    "        self.model = self._create_model(**kwargs)\n",
    "\n",
    "    def forward(self, x):\n",
    "        x = self.model(x)\n",
    "        return x\n",
    "\n",
    "    def _create_model(self, **kwargs):\n",
    "        model = self._create_darknet()\n",
    "\n",
    "        num_ftrs = model.fc.in_features\n",
    "        fcs_layers = self._create_fcs(num_ftrs, **kwargs)\n",
    "\n",
    "        model.fc = fcs_layers\n",
    "        return model\n",
    "\n",
    "    def _create_darknet(self):\n",
    "        darknet = models.resnet18(pretrained=True)\n",
    "        for param in darknet.parameters():\n",
    "            param.requires_grad = False\n",
    "        return darknet\n",
    "\n",
    "    def _create_fcs(self, num_ftrs, split_size, num_boxes, num_classes):\n",
    "        S, B, C = split_size, num_boxes, num_classes\n",
    "\n",
    "        return nn.Sequential(\n",
    "          nn.Linear(num_ftrs, 4096),\n",
    "          nn.Dropout(0.5),\n",
    "          nn.LeakyReLU(0.1),\n",
    "          nn.Linear(4096, S * S * (C + B * 5)),\n",
    "        )"
   ]
  },
  {
   "cell_type": "code",
   "execution_count": 4,
   "metadata": {
    "id": "vDKLhM8FjDKH"
   },
   "outputs": [],
   "source": [
    "def test(S = 7, B = 2, C = 3):\n",
    "    model = Yolov1(split_size = S, num_boxes = B, num_classes = C)\n",
    "    x = torch.randn((2, 3, 224, 224))                  # !!! resnet accepets input in this shape (3 x H x W)\n",
    "    print(model(x).shape)"
   ]
  },
  {
   "cell_type": "code",
   "execution_count": 5,
   "metadata": {
    "colab": {
     "base_uri": "https://localhost:8080/"
    },
    "id": "ZF8wKlHojh4f",
    "outputId": "e5fc5566-15d8-4523-aca6-ec9a9297f583"
   },
   "outputs": [],
   "source": [
    "# test()"
   ]
  }
 ],
 "metadata": {
  "colab": {
   "authorship_tag": "ABX9TyM+LTn7AWi4HvM0k3f2Yv4g",
   "include_colab_link": true,
   "provenance": []
  },
  "kernelspec": {
   "display_name": "Python 3",
   "language": "python",
   "name": "python3"
  },
  "language_info": {
   "codemirror_mode": {
    "name": "ipython",
    "version": 3
   },
   "file_extension": ".py",
   "mimetype": "text/x-python",
   "name": "python",
   "nbconvert_exporter": "python",
   "pygments_lexer": "ipython3",
   "version": "3.8.13"
  }
 },
 "nbformat": 4,
 "nbformat_minor": 1
}
