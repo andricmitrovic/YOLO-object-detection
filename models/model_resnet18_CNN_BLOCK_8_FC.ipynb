{
 "cells": [
  {
   "cell_type": "markdown",
   "metadata": {
    "colab_type": "text",
    "id": "view-in-github"
   },
   "source": [
    "<a href=\"https://colab.research.google.com/github/andricmitrovic/YOLO-object-detection/blob/main/models/model_resnet18%2BCNN_BLOCK_8%2BFC.ipynb\" target=\"_parent\"><img src=\"https://colab.research.google.com/assets/colab-badge.svg\" alt=\"Open In Colab\"/></a>"
   ]
  },
  {
   "cell_type": "code",
   "execution_count": 1,
   "metadata": {
    "id": "RfZ04XmvN19g"
   },
   "outputs": [],
   "source": [
    "import torch\n",
    "import torch.nn as nn\n",
    "from torchvision import models"
   ]
  },
  {
   "cell_type": "code",
   "execution_count": 2,
   "metadata": {
    "id": "70EFioRBsWD9"
   },
   "outputs": [],
   "source": [
    "device = torch.device(\"cuda:0\" if torch.cuda.is_available() else \"cpu\")"
   ]
  },
  {
   "cell_type": "code",
   "execution_count": 3,
   "metadata": {
    "id": "k6IPqITyjDHh"
   },
   "outputs": [
    {
     "ename": "IndentationError",
     "evalue": "expected an indented block (3742370972.py, line 23)",
     "output_type": "error",
     "traceback": [
      "\u001b[1;36m  Input \u001b[1;32mIn [3]\u001b[1;36m\u001b[0m\n\u001b[1;33m    ct += 1\u001b[0m\n\u001b[1;37m    ^\u001b[0m\n\u001b[1;31mIndentationError\u001b[0m\u001b[1;31m:\u001b[0m expected an indented block\n"
     ]
    }
   ],
   "source": [
    "class Yolov1(nn.Module):\n",
    "    def __init__(self, **kwargs):\n",
    "        super(Yolov1, self).__init__()\n",
    "        self.model = self._create_model(**kwargs)\n",
    "\n",
    "    def forward(self, x):\n",
    "        x = self.model(x)\n",
    "        return x\n",
    "\n",
    "    def _create_model(self, **kwargs):\n",
    "        model = self._create_darknet()\n",
    "\n",
    "        num_ftrs = model.fc.in_features\n",
    "        fcs_layers = self._create_fcs(num_ftrs, **kwargs)\n",
    "\n",
    "        model.fc = fcs_layers\n",
    "        return model\n",
    "\n",
    "    def _create_darknet(self):\n",
    "        darknet = models.resnet18(pretrained=True)\n",
    "        ct = 0\n",
    "        for child in darknet.children():\n",
    "            ct += 1\n",
    "            if ct < 8:\n",
    "                for param in child.parameters():\n",
    "                    param.requires_grad = False\n",
    "            else:\n",
    "                print(f\"Unfrozen layer block {ct}:\")\n",
    "                print(child)\n",
    "                print()\n",
    "        return darknet\n",
    "\n",
    "    def _create_fcs(self, num_ftrs, split_size, num_boxes, num_classes):\n",
    "        S, B, C = split_size, num_boxes, num_classes\n",
    "\n",
    "        return nn.Sequential(\n",
    "          nn.Linear(num_ftrs, 4096),\n",
    "          nn.LeakyReLU(0.1),\n",
    "          nn.Linear(4096, S * S * (C + B * 5)),\n",
    "        )"
   ]
  },
  {
   "cell_type": "code",
   "execution_count": null,
   "metadata": {
    "id": "vDKLhM8FjDKH"
   },
   "outputs": [],
   "source": [
    "def test(S = 7, B = 2, C = 3):\n",
    "    model = Yolov1(split_size = S, num_boxes = B, num_classes = C)\n",
    "    x = torch.randn((2, 3, 224, 224))\n",
    "    print(model(x).shape)"
   ]
  },
  {
   "cell_type": "code",
   "execution_count": null,
   "metadata": {
    "colab": {
     "base_uri": "https://localhost:8080/"
    },
    "id": "ZF8wKlHojh4f",
    "outputId": "201f1c9f-5794-4462-e895-80d18b2c2496"
   },
   "outputs": [],
   "source": [
    "# test()"
   ]
  }
 ],
 "metadata": {
  "colab": {
   "authorship_tag": "ABX9TyO94zGe1QtYqqKFkxI8c3jq",
   "include_colab_link": true,
   "provenance": []
  },
  "kernelspec": {
   "display_name": "Python 3",
   "language": "python",
   "name": "python3"
  },
  "language_info": {
   "codemirror_mode": {
    "name": "ipython",
    "version": 3
   },
   "file_extension": ".py",
   "mimetype": "text/x-python",
   "name": "python",
   "nbconvert_exporter": "python",
   "pygments_lexer": "ipython3",
   "version": "3.8.13"
  }
 },
 "nbformat": 4,
 "nbformat_minor": 1
}
