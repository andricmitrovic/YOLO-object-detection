{
  "nbformat": 4,
  "nbformat_minor": 0,
  "metadata": {
    "colab": {
      "provenance": [],
      "authorship_tag": "ABX9TyMjoLjmSvUSc+C9eW/ZPl9T",
      "include_colab_link": true
    },
    "kernelspec": {
      "name": "python3",
      "display_name": "Python 3"
    },
    "language_info": {
      "name": "python"
    }
  },
  "cells": [
    {
      "cell_type": "markdown",
      "metadata": {
        "id": "view-in-github",
        "colab_type": "text"
      },
      "source": [
        "<a href=\"https://colab.research.google.com/github/andricmitrovic/YOLO-object-detection/blob/main/models/model_vgg19%2BunfrozenCNN%2BFC.ipynb\" target=\"_parent\"><img src=\"https://colab.research.google.com/assets/colab-badge.svg\" alt=\"Open In Colab\"/></a>"
      ]
    },
    {
      "cell_type": "code",
      "execution_count": null,
      "metadata": {
        "id": "RfZ04XmvN19g"
      },
      "outputs": [],
      "source": [
        "import torch\n",
        "import torch.nn as nn\n",
        "from torchvision import models"
      ]
    },
    {
      "cell_type": "code",
      "source": [
        "device = torch.device(\"cuda:0\" if torch.cuda.is_available() else \"cpu\")"
      ],
      "metadata": {
        "id": "70EFioRBsWD9"
      },
      "execution_count": null,
      "outputs": []
    },
    {
      "cell_type": "code",
      "source": [
        "darknet = models.vgg19(pretrained=True)\n",
        "ct = 0\n",
        "cnn_block = next(darknet.children())\n",
        "for layer in cnn_block:\n",
        "  ct += 1\n",
        "  if ct < 29:\n",
        "    for param in layer.parameters():\n",
        "      param.requires_grad = False\n",
        "  else:\n",
        "    print(f\"Unfrozen layer {ct}:\")\n",
        "    print(layer)\n",
        "    print()"
      ],
      "metadata": {
        "colab": {
          "base_uri": "https://localhost:8080/"
        },
        "id": "WTlOq6evLTRf",
        "outputId": "95ba0684-687c-4cc8-8fb7-41e88431bccd"
      },
      "execution_count": null,
      "outputs": [
        {
          "output_type": "stream",
          "name": "stderr",
          "text": [
            "/usr/local/lib/python3.8/dist-packages/torchvision/models/_utils.py:208: UserWarning: The parameter 'pretrained' is deprecated since 0.13 and may be removed in the future, please use 'weights' instead.\n",
            "  warnings.warn(\n",
            "/usr/local/lib/python3.8/dist-packages/torchvision/models/_utils.py:223: UserWarning: Arguments other than a weight enum or `None` for 'weights' are deprecated since 0.13 and may be removed in the future. The current behavior is equivalent to passing `weights=VGG19_Weights.IMAGENET1K_V1`. You can also use `weights=VGG19_Weights.DEFAULT` to get the most up-to-date weights.\n",
            "  warnings.warn(msg)\n"
          ]
        },
        {
          "output_type": "stream",
          "name": "stdout",
          "text": [
            "Unfrozen layer 29:\n",
            "Conv2d(512, 512, kernel_size=(3, 3), stride=(1, 1), padding=(1, 1))\n",
            "\n",
            "Unfrozen layer 30:\n",
            "ReLU(inplace=True)\n",
            "\n",
            "Unfrozen layer 31:\n",
            "Conv2d(512, 512, kernel_size=(3, 3), stride=(1, 1), padding=(1, 1))\n",
            "\n",
            "Unfrozen layer 32:\n",
            "ReLU(inplace=True)\n",
            "\n",
            "Unfrozen layer 33:\n",
            "Conv2d(512, 512, kernel_size=(3, 3), stride=(1, 1), padding=(1, 1))\n",
            "\n",
            "Unfrozen layer 34:\n",
            "ReLU(inplace=True)\n",
            "\n",
            "Unfrozen layer 35:\n",
            "Conv2d(512, 512, kernel_size=(3, 3), stride=(1, 1), padding=(1, 1))\n",
            "\n",
            "Unfrozen layer 36:\n",
            "ReLU(inplace=True)\n",
            "\n",
            "Unfrozen layer 37:\n",
            "MaxPool2d(kernel_size=2, stride=2, padding=0, dilation=1, ceil_mode=False)\n",
            "\n"
          ]
        }
      ]
    },
    {
      "cell_type": "code",
      "source": [
        "class Yolov1(nn.Module):\n",
        "  def __init__(self, **kwargs):\n",
        "      super(Yolov1, self).__init__()\n",
        "      self.model = self._create_model(**kwargs)\n",
        "\n",
        "  def forward(self, x):\n",
        "      x = self.model(x)\n",
        "      return x\n",
        "\n",
        "  def _create_model(self, **kwargs):\n",
        "      model = self._create_darknet()\n",
        "\n",
        "      num_ftrs = model.classifier[0].in_features\n",
        "      fcs_layers = self._create_fcs(num_ftrs, **kwargs)\n",
        "\n",
        "      model.classifier = fcs_layers\n",
        "      return model\n",
        "\n",
        "  def _create_darknet(self):\n",
        "      darknet = models.vgg19(pretrained=True)\n",
        "      ct = 0\n",
        "      for child in darknet.children():\n",
        "        ct += 1\n",
        "        if ct < 8:\n",
        "            for param in child.parameters():\n",
        "                param.requires_grad = False\n",
        "        else:\n",
        "          print(f\"Unfrozen layer block {ct}:\")\n",
        "          print(child)\n",
        "          print()\n",
        "      return darknet\n",
        "\n",
        "  def _create_fcs(self, num_ftrs, split_size, num_boxes, num_classes):\n",
        "      S, B, C = split_size, num_boxes, num_classes\n",
        "\n",
        "      return nn.Sequential(\n",
        "          nn.Linear(num_ftrs, 4096),\n",
        "          nn.LeakyReLU(0.1),\n",
        "          nn.Linear(4096, S * S * (C + B * 5)),\n",
        "      )"
      ],
      "metadata": {
        "id": "k6IPqITyjDHh"
      },
      "execution_count": null,
      "outputs": []
    },
    {
      "cell_type": "code",
      "source": [
        "def test(S = 7, B = 2, C = 3):\n",
        "  model = Yolov1(split_size = S, num_boxes = B, num_classes = C)\n",
        "  x = torch.randn((2, 3, 224, 224))                  # !!! resnet accepets input in this shape (3 x H x W)\n",
        "  print(model(x).shape)"
      ],
      "metadata": {
        "id": "vDKLhM8FjDKH"
      },
      "execution_count": null,
      "outputs": []
    },
    {
      "cell_type": "code",
      "source": [
        "test()"
      ],
      "metadata": {
        "colab": {
          "base_uri": "https://localhost:8080/"
        },
        "id": "ZF8wKlHojh4f",
        "outputId": "201f1c9f-5794-4462-e895-80d18b2c2496"
      },
      "execution_count": null,
      "outputs": [
        {
          "output_type": "stream",
          "name": "stderr",
          "text": [
            "/usr/local/lib/python3.8/dist-packages/torchvision/models/_utils.py:208: UserWarning: The parameter 'pretrained' is deprecated since 0.13 and may be removed in the future, please use 'weights' instead.\n",
            "  warnings.warn(\n",
            "/usr/local/lib/python3.8/dist-packages/torchvision/models/_utils.py:223: UserWarning: Arguments other than a weight enum or `None` for 'weights' are deprecated since 0.13 and may be removed in the future. The current behavior is equivalent to passing `weights=ResNet18_Weights.IMAGENET1K_V1`. You can also use `weights=ResNet18_Weights.DEFAULT` to get the most up-to-date weights.\n",
            "  warnings.warn(msg)\n"
          ]
        },
        {
          "output_type": "stream",
          "name": "stdout",
          "text": [
            "Unfrozen layer block 8:\n",
            "Sequential(\n",
            "  (0): BasicBlock(\n",
            "    (conv1): Conv2d(256, 512, kernel_size=(3, 3), stride=(2, 2), padding=(1, 1), bias=False)\n",
            "    (bn1): BatchNorm2d(512, eps=1e-05, momentum=0.1, affine=True, track_running_stats=True)\n",
            "    (relu): ReLU(inplace=True)\n",
            "    (conv2): Conv2d(512, 512, kernel_size=(3, 3), stride=(1, 1), padding=(1, 1), bias=False)\n",
            "    (bn2): BatchNorm2d(512, eps=1e-05, momentum=0.1, affine=True, track_running_stats=True)\n",
            "    (downsample): Sequential(\n",
            "      (0): Conv2d(256, 512, kernel_size=(1, 1), stride=(2, 2), bias=False)\n",
            "      (1): BatchNorm2d(512, eps=1e-05, momentum=0.1, affine=True, track_running_stats=True)\n",
            "    )\n",
            "  )\n",
            "  (1): BasicBlock(\n",
            "    (conv1): Conv2d(512, 512, kernel_size=(3, 3), stride=(1, 1), padding=(1, 1), bias=False)\n",
            "    (bn1): BatchNorm2d(512, eps=1e-05, momentum=0.1, affine=True, track_running_stats=True)\n",
            "    (relu): ReLU(inplace=True)\n",
            "    (conv2): Conv2d(512, 512, kernel_size=(3, 3), stride=(1, 1), padding=(1, 1), bias=False)\n",
            "    (bn2): BatchNorm2d(512, eps=1e-05, momentum=0.1, affine=True, track_running_stats=True)\n",
            "  )\n",
            ")\n",
            "\n",
            "Unfrozen layer block 9:\n",
            "AdaptiveAvgPool2d(output_size=(1, 1))\n",
            "\n",
            "Unfrozen layer block 10:\n",
            "Linear(in_features=512, out_features=1000, bias=True)\n",
            "\n",
            "torch.Size([2, 637])\n"
          ]
        }
      ]
    }
  ]
}