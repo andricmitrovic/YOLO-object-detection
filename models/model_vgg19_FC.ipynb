{
 "cells": [
  {
   "cell_type": "markdown",
   "metadata": {
    "colab_type": "text",
    "id": "view-in-github"
   },
   "source": [
    "<a href=\"https://colab.research.google.com/github/andricmitrovic/YOLO-object-detection/blob/main/models/model_vgg19%2BFC.ipynb\" target=\"_parent\"><img src=\"https://colab.research.google.com/assets/colab-badge.svg\" alt=\"Open In Colab\"/></a>"
   ]
  },
  {
   "cell_type": "code",
   "execution_count": 1,
   "metadata": {
    "id": "RfZ04XmvN19g"
   },
   "outputs": [],
   "source": [
    "import torch\n",
    "import torch.nn as nn\n",
    "from torchvision import models"
   ]
  },
  {
   "cell_type": "code",
   "execution_count": 2,
   "metadata": {
    "id": "70EFioRBsWD9"
   },
   "outputs": [],
   "source": [
    "device = torch.device(\"cuda:0\" if torch.cuda.is_available() else \"cpu\")"
   ]
  },
  {
   "cell_type": "code",
   "execution_count": 3,
   "metadata": {
    "id": "k6IPqITyjDHh"
   },
   "outputs": [],
   "source": [
    "class Yolov1(nn.Module):\n",
    "  def __init__(self, **kwargs):\n",
    "      super(Yolov1, self).__init__()\n",
    "      self.model = self._create_model(**kwargs)\n",
    "\n",
    "  def forward(self, x):\n",
    "      x = self.model(x)\n",
    "      return x\n",
    "\n",
    "  def _create_model(self, **kwargs):\n",
    "      model = self._create_darknet()\n",
    "\n",
    "      num_ftrs = model.classifier[0].in_features\n",
    "      fcs_layers = self._create_fcs(num_ftrs, **kwargs)\n",
    "\n",
    "      model.classifier = fcs_layers\n",
    "      return model\n",
    "\n",
    "  def _create_darknet(self):\n",
    "      darknet = models.vgg19(pretrained=True)\n",
    "      for child in darknet.children():\n",
    "        for param in child.parameters():\n",
    "          param.requires_grad = False\n",
    "      return darknet\n",
    "\n",
    "  def _create_fcs(self, num_ftrs, split_size, num_boxes, num_classes):\n",
    "      S, B, C = split_size, num_boxes, num_classes\n",
    "\n",
    "      return nn.Sequential(\n",
    "          nn.Linear(num_ftrs, 4096),\n",
    "          nn.LeakyReLU(0.1),\n",
    "          nn.Linear(4096, S * S * (C + B * 5)),\n",
    "      )"
   ]
  },
  {
   "cell_type": "code",
   "execution_count": 4,
   "metadata": {
    "id": "vDKLhM8FjDKH"
   },
   "outputs": [],
   "source": [
    "def test(S = 7, B = 2, C = 3):\n",
    "  model = Yolov1(split_size = S, num_boxes = B, num_classes = C)\n",
    "  x = torch.randn((2, 3, 224, 224))                \n",
    "  print(model(x).shape)"
   ]
  },
  {
   "cell_type": "code",
   "execution_count": 5,
   "metadata": {
    "colab": {
     "base_uri": "https://localhost:8080/"
    },
    "id": "ZF8wKlHojh4f",
    "outputId": "534288ba-5e5b-46fd-9c8a-1c1401a272a0"
   },
   "outputs": [
    {
     "name": "stderr",
     "output_type": "stream",
     "text": [
      "/usr/local/lib/python3.8/dist-packages/torchvision/models/_utils.py:208: UserWarning: The parameter 'pretrained' is deprecated since 0.13 and may be removed in the future, please use 'weights' instead.\n",
      "  warnings.warn(\n",
      "/usr/local/lib/python3.8/dist-packages/torchvision/models/_utils.py:223: UserWarning: Arguments other than a weight enum or `None` for 'weights' are deprecated since 0.13 and may be removed in the future. The current behavior is equivalent to passing `weights=VGG19_Weights.IMAGENET1K_V1`. You can also use `weights=VGG19_Weights.DEFAULT` to get the most up-to-date weights.\n",
      "  warnings.warn(msg)\n"
     ]
    },
    {
     "name": "stdout",
     "output_type": "stream",
     "text": [
      "torch.Size([2, 637])\n"
     ]
    }
   ],
   "source": [
    "# test()"
   ]
  }
 ],
 "metadata": {
  "colab": {
   "authorship_tag": "ABX9TyO2byG1FnS7L/xGE1I0iLoX",
   "include_colab_link": true,
   "provenance": []
  },
  "kernelspec": {
   "display_name": "Python 3",
   "language": "python",
   "name": "python3"
  },
  "language_info": {
   "codemirror_mode": {
    "name": "ipython",
    "version": 3
   },
   "file_extension": ".py",
   "mimetype": "text/x-python",
   "name": "python",
   "nbconvert_exporter": "python",
   "pygments_lexer": "ipython3",
   "version": "3.8.13"
  }
 },
 "nbformat": 4,
 "nbformat_minor": 1
}
