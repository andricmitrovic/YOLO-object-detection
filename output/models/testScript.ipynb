{
 "cells": [
  {
   "cell_type": "code",
   "execution_count": 1,
   "id": "b09ef06a",
   "metadata": {},
   "outputs": [],
   "source": [
    "from torch.utils.data import DataLoader\n",
    "from torchvision.transforms import ToTensor\n",
    "from torchvision.transforms import ConvertImageDtype\n",
    "import matplotlib.pyplot as plt\n",
    "%run ../../models/model_vgg19_FC.ipynb\n",
    "%run ../../train/utils.ipynb\n",
    "%run TrainingDataset.ipynb\n",
    "DEVICE =\"cpu\"\n",
    "LOAD_MODEL_FILE = \"./best_model.pth\"\n",
    "BATCH_SIZE = 8"
   ]
  },
  {
   "cell_type": "code",
   "execution_count": 2,
   "id": "b22465d2",
   "metadata": {},
   "outputs": [],
   "source": [
    "test_data = TestingDataset(\n",
    "    img_dir = '../../dataset/data/preprocessed/testing_images'\n",
    ")"
   ]
  },
  {
   "cell_type": "code",
   "execution_count": 3,
   "id": "abc6bc57",
   "metadata": {},
   "outputs": [],
   "source": [
    "test_loader = DataLoader(test_data, batch_size=8, shuffle=True)"
   ]
  },
  {
   "cell_type": "code",
   "execution_count": 4,
   "id": "3aae8b28",
   "metadata": {},
   "outputs": [
    {
     "name": "stderr",
     "output_type": "stream",
     "text": [
      "C:\\Users\\Daniele\\anaconda3\\lib\\site-packages\\torchvision\\models\\_utils.py:208: UserWarning: The parameter 'pretrained' is deprecated since 0.13 and may be removed in the future, please use 'weights' instead.\n",
      "  warnings.warn(\n",
      "C:\\Users\\Daniele\\anaconda3\\lib\\site-packages\\torchvision\\models\\_utils.py:223: UserWarning: Arguments other than a weight enum or `None` for 'weights' are deprecated since 0.13 and may be removed in the future. The current behavior is equivalent to passing `weights=VGG19_Weights.IMAGENET1K_V1`. You can also use `weights=VGG19_Weights.DEFAULT` to get the most up-to-date weights.\n",
      "  warnings.warn(msg)\n"
     ]
    },
    {
     "data": {
      "text/plain": [
       "<All keys matched successfully>"
      ]
     },
     "execution_count": 4,
     "metadata": {},
     "output_type": "execute_result"
    }
   ],
   "source": [
    "model = Yolov1(split_size=7, num_boxes=2, num_classes=1).to(DEVICE)\n",
    "model.load_state_dict(torch.load(LOAD_MODEL_FILE, map_location=torch.device('cpu')))"
   ]
  },
  {
   "cell_type": "code",
   "execution_count": null,
   "id": "5055b0d8",
   "metadata": {},
   "outputs": [],
   "source": [
    "for input_data in test_loader:\n",
    "    model(input_data)"
   ]
  },
  {
   "cell_type": "code",
   "execution_count": null,
   "id": "545aba17",
   "metadata": {},
   "outputs": [],
   "source": [
    " for x in test_loader:\n",
    "    x = x.to(\"cpu\")\n",
    "    for idx in range(1):\n",
    "        bboxes = cellboxes_to_boxes(model(x))\n",
    "        bboxes = non_max_suppression(bboxes[idx], iou_threshold=0.5, threshold=0.4, box_format=\"midpoint\")\n",
    "        plot_image(x[idx].permute(1,2,0).to(\"cpu\"), bboxes)"
   ]
  },
  {
   "cell_type": "code",
   "execution_count": null,
   "id": "1e8120c2",
   "metadata": {},
   "outputs": [],
   "source": []
  }
 ],
 "metadata": {
  "kernelspec": {
   "display_name": "Python 3 (ipykernel)",
   "language": "python",
   "name": "python3"
  },
  "language_info": {
   "codemirror_mode": {
    "name": "ipython",
    "version": 3
   },
   "file_extension": ".py",
   "mimetype": "text/x-python",
   "name": "python",
   "nbconvert_exporter": "python",
   "pygments_lexer": "ipython3",
   "version": "3.9.13"
  }
 },
 "nbformat": 4,
 "nbformat_minor": 5
}
