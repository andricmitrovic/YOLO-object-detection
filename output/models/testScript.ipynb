{
 "cells": [
  {
   "cell_type": "code",
   "execution_count": 2,
   "id": "b09ef06a",
   "metadata": {},
   "outputs": [],
   "source": [
    "from torch.utils.data import DataLoader\n",
    "from torchvision.transforms import ToTensor\n",
    "from torchvision.transforms import ConvertImageDtype\n",
    "import matplotlib.pyplot as plt\n",
    "%run ../../models/model_vgg19_FC.ipynb\n",
    "%run ../../train/utils.ipynb\n",
    "%run TestingDataset.ipynb\n",
    "DEVICE =\"cpu\"\n",
    "LOAD_MODEL_FILE = \"./best_model.pth\"\n",
    "BATCH_SIZE = 8"
   ]
  },
  {
   "cell_type": "code",
   "execution_count": 3,
   "id": "b22465d2",
   "metadata": {},
   "outputs": [],
   "source": [
    "test_data = TestingDataset(\n",
    "    img_dir = '../../dataset/data/preprocessed/testing_images'\n",
    ")"
   ]
  },
  {
   "cell_type": "code",
   "execution_count": 4,
   "id": "abc6bc57",
   "metadata": {},
   "outputs": [],
   "source": [
    "test_loader = DataLoader(test_data, batch_size=8, shuffle=True)"
   ]
  },
  {
   "cell_type": "code",
   "execution_count": 5,
   "id": "3aae8b28",
   "metadata": {},
   "outputs": [
    {
     "ename": "TypeError",
     "evalue": "__init__() got an unexpected keyword argument 'split_size'",
     "output_type": "error",
     "traceback": [
      "\u001b[1;31m---------------------------------------------------------------------------\u001b[0m",
      "\u001b[1;31mTypeError\u001b[0m                                 Traceback (most recent call last)",
      "Input \u001b[1;32mIn [5]\u001b[0m, in \u001b[0;36m<cell line: 1>\u001b[1;34m()\u001b[0m\n\u001b[1;32m----> 1\u001b[0m model \u001b[38;5;241m=\u001b[39m \u001b[43mYolov1\u001b[49m\u001b[43m(\u001b[49m\u001b[43msplit_size\u001b[49m\u001b[38;5;241;43m=\u001b[39;49m\u001b[38;5;241;43m7\u001b[39;49m\u001b[43m,\u001b[49m\u001b[43m \u001b[49m\u001b[43mnum_boxes\u001b[49m\u001b[38;5;241;43m=\u001b[39;49m\u001b[38;5;241;43m2\u001b[39;49m\u001b[43m,\u001b[49m\u001b[43m \u001b[49m\u001b[43mnum_classes\u001b[49m\u001b[38;5;241;43m=\u001b[39;49m\u001b[38;5;241;43m1\u001b[39;49m\u001b[43m)\u001b[49m\u001b[38;5;241m.\u001b[39mto(DEVICE)\n\u001b[0;32m      2\u001b[0m model\u001b[38;5;241m.\u001b[39mload_state_dict(torch\u001b[38;5;241m.\u001b[39mload(LOAD_MODEL_FILE, map_location\u001b[38;5;241m=\u001b[39mtorch\u001b[38;5;241m.\u001b[39mdevice(\u001b[38;5;124m'\u001b[39m\u001b[38;5;124mcpu\u001b[39m\u001b[38;5;124m'\u001b[39m)))\n",
      "\u001b[1;31mTypeError\u001b[0m: __init__() got an unexpected keyword argument 'split_size'"
     ]
    }
   ],
   "source": [
    "model = Yolov1(split_size=7, num_boxes=2, num_classes=1).to(DEVICE)\n",
    "model.load_state_dict(torch.load(LOAD_MODEL_FILE, map_location=torch.device('cpu')))"
   ]
  },
  {
   "cell_type": "code",
   "execution_count": null,
   "id": "5055b0d8",
   "metadata": {},
   "outputs": [],
   "source": [
    "for input_data in test_loader:\n",
    "    model(input_data)"
   ]
  },
  {
   "cell_type": "code",
   "execution_count": null,
   "id": "545aba17",
   "metadata": {},
   "outputs": [],
   "source": [
    " for x in test_loader:\n",
    "    x = x.to(\"cpu\")\n",
    "    for idx in range(1):\n",
    "        bboxes = cellboxes_to_boxes(model(x))\n",
    "        bboxes = non_max_suppression(bboxes[idx], iou_threshold=0.5, threshold=0.4, box_format=\"midpoint\")\n",
    "        plot_image(x[idx].permute(1,2,0).to(\"cpu\"), bboxes)"
   ]
  },
  {
   "cell_type": "code",
   "execution_count": null,
   "id": "1e8120c2",
   "metadata": {},
   "outputs": [],
   "source": []
  }
 ],
 "metadata": {
  "kernelspec": {
   "display_name": "Python 3",
   "language": "python",
   "name": "python3"
  },
  "language_info": {
   "codemirror_mode": {
    "name": "ipython",
    "version": 3
   },
   "file_extension": ".py",
   "mimetype": "text/x-python",
   "name": "python",
   "nbconvert_exporter": "python",
   "pygments_lexer": "ipython3",
   "version": "3.8.13"
  }
 },
 "nbformat": 4,
 "nbformat_minor": 5
}
