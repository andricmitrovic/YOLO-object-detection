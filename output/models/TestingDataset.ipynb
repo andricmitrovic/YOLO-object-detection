{
 "cells": [
  {
   "cell_type": "code",
   "execution_count": 1,
   "id": "b024cf84",
   "metadata": {},
   "outputs": [],
   "source": [
    "from torch.utils.data import DataLoader\n",
    "from torchvision.transforms import ToTensor\n",
    "from torchvision.transforms import ConvertImageDtype\n",
    "import matplotlib.pyplot as plt\n",
    "%run ../../models/model_vgg19_FC.ipynb\n",
    "%run ../../train/utils.ipynb\n",
    "DEVICE =\"cpu\"\n",
    "LOAD_MODEL_FILE = \"./best_model.pth\"\n",
    "BATCH_SIZE = 8"
   ]
  },
  {
   "cell_type": "code",
   "execution_count": 2,
   "id": "50e9a4a1",
   "metadata": {},
   "outputs": [],
   "source": [
    "import os\n",
    "import torch\n",
    "import pandas as pd\n",
    "from torchvision.io import read_image\n",
    "\n",
    "class TestingDataset(torch.utils.data.Dataset):\n",
    "    def __init__(self, img_dir, transform=None):\n",
    "        self.list_dir = self.getAllImagesFileNames(img_dir)\n",
    "        self.img_dir = img_dir\n",
    "        self.transform = transform\n",
    "\n",
    "    def __len__(self):\n",
    "        return len(self.list_dir)\n",
    "\n",
    "    def __getitem__(self, idx):\n",
    "        img_path = os.path.join(self.img_dir, self.list_dir[idx])\n",
    "        image = read_image(img_path)\n",
    "        transform = ConvertImageDtype(torch.float32)\n",
    "        image = transform(image)\n",
    "        if self.transform:\n",
    "            image = self.transform(image)\n",
    "        return image\n",
    "    \n",
    "    def getAllImagesFileNames(self, img_dir):\n",
    "        arraynames=[file for file in os.listdir(img_dir) if os.path.isfile(os.path.join(img_dir, file))]\n",
    "        while \"README.md\" in arraynames:\n",
    "            arraynames.remove(\"README.md\")\n",
    "        return arraynames\n",
    "        "
   ]
  }
 ],
 "metadata": {
  "kernelspec": {
   "display_name": "Python 3 (ipykernel)",
   "language": "python",
   "name": "python3"
  },
  "language_info": {
   "codemirror_mode": {
    "name": "ipython",
    "version": 3
   },
   "file_extension": ".py",
   "mimetype": "text/x-python",
   "name": "python",
   "nbconvert_exporter": "python",
   "pygments_lexer": "ipython3",
   "version": "3.9.13"
  }
 },
 "nbformat": 4,
 "nbformat_minor": 5
}
