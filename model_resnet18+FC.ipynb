{
  "nbformat": 4,
  "nbformat_minor": 0,
  "metadata": {
    "colab": {
      "provenance": [],
      "authorship_tag": "ABX9TyPlbUTSYg3s0CMkHIOazwIT",
      "include_colab_link": true
    },
    "kernelspec": {
      "name": "python3",
      "display_name": "Python 3"
    },
    "language_info": {
      "name": "python"
    }
  },
  "cells": [
    {
      "cell_type": "markdown",
      "metadata": {
        "id": "view-in-github",
        "colab_type": "text"
      },
      "source": [
        "<a href=\"https://colab.research.google.com/github/andricmitrovic/YOLO-object-detection/blob/main/model_resnet18%2BFC.ipynb\" target=\"_parent\"><img src=\"https://colab.research.google.com/assets/colab-badge.svg\" alt=\"Open In Colab\"/></a>"
      ]
    },
    {
      "cell_type": "code",
      "execution_count": 42,
      "metadata": {
        "id": "RfZ04XmvN19g"
      },
      "outputs": [],
      "source": [
        "import torch\n",
        "import torch.nn as nn\n",
        "from torchvision import models"
      ]
    },
    {
      "cell_type": "code",
      "source": [
        "device = torch.device(\"cuda:0\" if torch.cuda.is_available() else \"cpu\")"
      ],
      "metadata": {
        "id": "70EFioRBsWD9"
      },
      "execution_count": 43,
      "outputs": []
    },
    {
      "cell_type": "code",
      "source": [
        "class Yolov1(nn.Module):\n",
        "  def __init__(self, **kwargs):\n",
        "      super(Yolov1, self).__init__()\n",
        "      self.net = self._create_net(**kwargs)\n",
        "\n",
        "  def forward(self, x):\n",
        "      x = self.net(x)\n",
        "      return x\n",
        "\n",
        "  def _create_net(self, **kwargs):\n",
        "      net = models.resnet18(pretrained=True)\n",
        "      num_ftrs = net.fc.in_features\n",
        "      fcs_layers = self._create_fcs(num_ftrs, **kwargs)\n",
        "      net.fc = fcs_layers\n",
        "      return net\n",
        "\n",
        "  def _create_fcs(self, num_ftrs, split_size, num_boxes, num_classes):\n",
        "      S, B, C = split_size, num_boxes, num_classes\n",
        "\n",
        "      return nn.Sequential(\n",
        "          nn.Linear(num_ftrs, 4096),\n",
        "          nn.LeakyReLU(0.1),\n",
        "          nn.Linear(4096, S * S * (C + B * 5)),\n",
        "      )"
      ],
      "metadata": {
        "id": "k6IPqITyjDHh"
      },
      "execution_count": 44,
      "outputs": []
    },
    {
      "cell_type": "code",
      "source": [
        "def test(S = 7, B = 2, C = 3):\n",
        "  model = Yolov1(split_size = S, num_boxes = B, num_classes = C)\n",
        "  x = torch.randn((2, 3, 224, 224))                  # !!! resnet accepets input in this shape (3 x H x W)\n",
        "  print(model(x).shape)"
      ],
      "metadata": {
        "id": "vDKLhM8FjDKH"
      },
      "execution_count": 45,
      "outputs": []
    },
    {
      "cell_type": "code",
      "source": [
        "test()"
      ],
      "metadata": {
        "colab": {
          "base_uri": "https://localhost:8080/"
        },
        "id": "ZF8wKlHojh4f",
        "outputId": "4c7f8308-fd71-4d89-8cfd-7f0d68608b4b"
      },
      "execution_count": 46,
      "outputs": [
        {
          "output_type": "stream",
          "name": "stdout",
          "text": [
            "torch.Size([2, 637])\n"
          ]
        }
      ]
    }
  ]
}