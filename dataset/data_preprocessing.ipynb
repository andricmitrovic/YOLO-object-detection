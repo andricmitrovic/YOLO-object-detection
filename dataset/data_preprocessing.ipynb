{
 "cells": [
  {
   "cell_type": "code",
   "execution_count": 40,
   "id": "ce09f916",
   "metadata": {},
   "outputs": [],
   "source": [
    "#!/usr/bin/python\n",
    "from PIL import Image\n",
    "import os, sys\n",
    "from tqdm import tqdm"
   ]
  },
  {
   "cell_type": "code",
   "execution_count": 41,
   "id": "1684b5d1",
   "metadata": {},
   "outputs": [],
   "source": [
    "in_paths = [\"./data/raw/testing_images/\", \"./data/raw/training_images/\"]\n",
    "out_paths = [\"./data/preprocessed/testing_images/\", \"./data/preprocessed/training_images/\"]"
   ]
  },
  {
   "cell_type": "code",
   "execution_count": 42,
   "id": "dfed4924",
   "metadata": {},
   "outputs": [],
   "source": [
    "def resize(in_path, out_path):\n",
    "    dirs = os.listdir(in_path)\n",
    "    for item in tqdm(dirs):\n",
    "        if os.path.isfile(in_path+item):\n",
    "            im = Image.open(in_path+item)\n",
    "            f, e = os.path.splitext(in_path+item)\n",
    "            imResize = im.resize((224,224), Image.ANTIALIAS)\n",
    "            imResize.save(out_path + item, 'JPEG', quality=90)"
   ]
  },
  {
   "cell_type": "code",
   "execution_count": 43,
   "id": "a78a9920",
   "metadata": {},
   "outputs": [
    {
     "name": "stderr",
     "output_type": "stream",
     "text": [
      "  0%|                                                                                          | 0/175 [00:00<?, ?it/s]C:\\Users\\andri\\AppData\\Local\\Temp\\ipykernel_22312\\1044547206.py:7: DeprecationWarning: ANTIALIAS is deprecated and will be removed in Pillow 10 (2023-07-01). Use Resampling.LANCZOS instead.\n",
      "  imResize = im.resize((224,224), Image.ANTIALIAS)\n",
      "100%|███████████████████████████████████████████████████████████████████████████████| 175/175 [00:01<00:00, 116.37it/s]\n",
      "100%|█████████████████████████████████████████████████████████████████████████████| 1001/1001 [00:08<00:00, 117.11it/s]\n"
     ]
    }
   ],
   "source": [
    "for in_path, out_path in zip(in_paths, out_paths):\n",
    "    resize(in_path, out_path)"
   ]
  },
  {
   "cell_type": "code",
   "execution_count": null,
   "id": "d601fd5e",
   "metadata": {},
   "outputs": [],
   "source": []
  }
 ],
 "metadata": {
  "kernelspec": {
   "display_name": "Python (mlenv)",
   "language": "python",
   "name": "mlenv"
  },
  "language_info": {
   "codemirror_mode": {
    "name": "ipython",
    "version": 3
   },
   "file_extension": ".py",
   "mimetype": "text/x-python",
   "name": "python",
   "nbconvert_exporter": "python",
   "pygments_lexer": "ipython3",
   "version": "3.8.13"
  }
 },
 "nbformat": 4,
 "nbformat_minor": 5
}
