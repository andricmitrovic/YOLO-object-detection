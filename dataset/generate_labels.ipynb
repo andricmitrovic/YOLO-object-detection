{
 "cells": [
  {
   "cell_type": "code",
   "execution_count": 1,
   "id": "666ca3d9",
   "metadata": {},
   "outputs": [],
   "source": [
    "import pandas as pd\n",
    "import random\n",
    "from tqdm import tqdm"
   ]
  },
  {
   "cell_type": "code",
   "execution_count": 2,
   "id": "ee27835d",
   "metadata": {},
   "outputs": [],
   "source": [
    "object_categories = ['aeroplane', 'bicycle', 'bird', 'boat',\n",
    "                     'bottle', 'bus', 'car', 'cat', 'chair',\n",
    "                     'cow', 'diningtable', 'dog', 'horse',\n",
    "                     'motorbike', 'person', 'pottedplant',\n",
    "                     'sheep', 'sofa', 'train', 'tvmonitor']"
   ]
  },
  {
   "cell_type": "code",
   "execution_count": 3,
   "id": "8c3d20ab",
   "metadata": {},
   "outputs": [
    {
     "data": {
      "text/plain": [
       "{'aeroplane': 0,\n",
       " 'bicycle': 1,\n",
       " 'bird': 2,\n",
       " 'boat': 3,\n",
       " 'bottle': 4,\n",
       " 'bus': 5,\n",
       " 'car': 6,\n",
       " 'cat': 7,\n",
       " 'chair': 8,\n",
       " 'cow': 9,\n",
       " 'diningtable': 10,\n",
       " 'dog': 11,\n",
       " 'horse': 12,\n",
       " 'motorbike': 13,\n",
       " 'person': 14,\n",
       " 'pottedplant': 15,\n",
       " 'sheep': 16,\n",
       " 'sofa': 17,\n",
       " 'train': 18,\n",
       " 'tvmonitor': 19}"
      ]
     },
     "execution_count": 3,
     "metadata": {},
     "output_type": "execute_result"
    }
   ],
   "source": [
    "class_mapping = {label:idx for idx, label in enumerate(object_categories)}\n",
    "class_mapping"
   ]
  },
  {
   "cell_type": "code",
   "execution_count": 4,
   "id": "f87c5f81",
   "metadata": {},
   "outputs": [],
   "source": [
    "data_path = \"./voc_data.csv\""
   ]
  },
  {
   "cell_type": "code",
   "execution_count": 5,
   "id": "33988445",
   "metadata": {},
   "outputs": [
    {
     "data": {
      "text/html": [
       "<div>\n",
       "<style scoped>\n",
       "    .dataframe tbody tr th:only-of-type {\n",
       "        vertical-align: middle;\n",
       "    }\n",
       "\n",
       "    .dataframe tbody tr th {\n",
       "        vertical-align: top;\n",
       "    }\n",
       "\n",
       "    .dataframe thead th {\n",
       "        text-align: right;\n",
       "    }\n",
       "</style>\n",
       "<table border=\"1\" class=\"dataframe\">\n",
       "  <thead>\n",
       "    <tr style=\"text-align: right;\">\n",
       "      <th></th>\n",
       "      <th>image</th>\n",
       "      <th>class</th>\n",
       "      <th>x</th>\n",
       "      <th>y</th>\n",
       "      <th>width</th>\n",
       "      <th>height</th>\n",
       "    </tr>\n",
       "  </thead>\n",
       "  <tbody>\n",
       "    <tr>\n",
       "      <th>0</th>\n",
       "      <td>2007_000027.jpg</td>\n",
       "      <td>person</td>\n",
       "      <td>0.523000</td>\n",
       "      <td>0.465021</td>\n",
       "      <td>0.350000</td>\n",
       "      <td>0.514403</td>\n",
       "    </tr>\n",
       "    <tr>\n",
       "      <th>1</th>\n",
       "      <td>2007_000027.jpg</td>\n",
       "      <td>person</td>\n",
       "      <td>0.538066</td>\n",
       "      <td>0.452000</td>\n",
       "      <td>0.360082</td>\n",
       "      <td>0.500000</td>\n",
       "    </tr>\n",
       "    <tr>\n",
       "      <th>2</th>\n",
       "      <td>2007_000032.jpg</td>\n",
       "      <td>aeroplane</td>\n",
       "      <td>0.479000</td>\n",
       "      <td>0.464413</td>\n",
       "      <td>0.542000</td>\n",
       "      <td>0.373665</td>\n",
       "    </tr>\n",
       "    <tr>\n",
       "      <th>3</th>\n",
       "      <td>2007_000032.jpg</td>\n",
       "      <td>aeroplane</td>\n",
       "      <td>0.330000</td>\n",
       "      <td>0.375445</td>\n",
       "      <td>0.128000</td>\n",
       "      <td>0.124555</td>\n",
       "    </tr>\n",
       "    <tr>\n",
       "      <th>4</th>\n",
       "      <td>2007_000032.jpg</td>\n",
       "      <td>person</td>\n",
       "      <td>0.408000</td>\n",
       "      <td>0.727758</td>\n",
       "      <td>0.036000</td>\n",
       "      <td>0.174377</td>\n",
       "    </tr>\n",
       "    <tr>\n",
       "      <th>...</th>\n",
       "      <td>...</td>\n",
       "      <td>...</td>\n",
       "      <td>...</td>\n",
       "      <td>...</td>\n",
       "      <td>...</td>\n",
       "      <td>...</td>\n",
       "    </tr>\n",
       "    <tr>\n",
       "      <th>40134</th>\n",
       "      <td>2012_004328.jpg</td>\n",
       "      <td>person</td>\n",
       "      <td>0.342988</td>\n",
       "      <td>0.635000</td>\n",
       "      <td>0.326220</td>\n",
       "      <td>0.390000</td>\n",
       "    </tr>\n",
       "    <tr>\n",
       "      <th>40135</th>\n",
       "      <td>2012_004328.jpg</td>\n",
       "      <td>person</td>\n",
       "      <td>0.742378</td>\n",
       "      <td>0.558000</td>\n",
       "      <td>0.149390</td>\n",
       "      <td>0.212000</td>\n",
       "    </tr>\n",
       "    <tr>\n",
       "      <th>40136</th>\n",
       "      <td>2012_004329.jpg</td>\n",
       "      <td>person</td>\n",
       "      <td>0.512012</td>\n",
       "      <td>0.485000</td>\n",
       "      <td>0.681682</td>\n",
       "      <td>0.618000</td>\n",
       "    </tr>\n",
       "    <tr>\n",
       "      <th>40137</th>\n",
       "      <td>2012_004330.jpg</td>\n",
       "      <td>person</td>\n",
       "      <td>0.800000</td>\n",
       "      <td>0.574000</td>\n",
       "      <td>0.373333</td>\n",
       "      <td>0.616000</td>\n",
       "    </tr>\n",
       "    <tr>\n",
       "      <th>40138</th>\n",
       "      <td>2012_004331.jpg</td>\n",
       "      <td>person</td>\n",
       "      <td>0.310000</td>\n",
       "      <td>0.340000</td>\n",
       "      <td>0.212000</td>\n",
       "      <td>0.546667</td>\n",
       "    </tr>\n",
       "  </tbody>\n",
       "</table>\n",
       "<p>40139 rows × 6 columns</p>\n",
       "</div>"
      ],
      "text/plain": [
       "                 image      class         x         y     width    height\n",
       "0      2007_000027.jpg     person  0.523000  0.465021  0.350000  0.514403\n",
       "1      2007_000027.jpg     person  0.538066  0.452000  0.360082  0.500000\n",
       "2      2007_000032.jpg  aeroplane  0.479000  0.464413  0.542000  0.373665\n",
       "3      2007_000032.jpg  aeroplane  0.330000  0.375445  0.128000  0.124555\n",
       "4      2007_000032.jpg     person  0.408000  0.727758  0.036000  0.174377\n",
       "...                ...        ...       ...       ...       ...       ...\n",
       "40134  2012_004328.jpg     person  0.342988  0.635000  0.326220  0.390000\n",
       "40135  2012_004328.jpg     person  0.742378  0.558000  0.149390  0.212000\n",
       "40136  2012_004329.jpg     person  0.512012  0.485000  0.681682  0.618000\n",
       "40137  2012_004330.jpg     person  0.800000  0.574000  0.373333  0.616000\n",
       "40138  2012_004331.jpg     person  0.310000  0.340000  0.212000  0.546667\n",
       "\n",
       "[40139 rows x 6 columns]"
      ]
     },
     "execution_count": 5,
     "metadata": {},
     "output_type": "execute_result"
    }
   ],
   "source": [
    "df = pd.read_csv(data_path)\n",
    "df"
   ]
  },
  {
   "cell_type": "code",
   "execution_count": 6,
   "id": "c1e480d5",
   "metadata": {},
   "outputs": [],
   "source": [
    "df['image'] = df['image'].astype(str).replace(\"jpg\", \"txt\", regex=True)"
   ]
  },
  {
   "cell_type": "code",
   "execution_count": 7,
   "id": "93e8f45d",
   "metadata": {},
   "outputs": [
    {
     "name": "stderr",
     "output_type": "stream",
     "text": [
      "40139it [00:25, 1573.75it/s]\n"
     ]
    }
   ],
   "source": [
    "for index, row in tqdm(df.iterrows()):\n",
    "    r = random.uniform(0, 1)\n",
    "    if r < 0.2:\n",
    "        label_path = 'labels/val/'\n",
    "    else:\n",
    "        label_path = 'labels/train/'\n",
    "    with open(label_path + row['image'], 'a') as file:\n",
    "        file.write(str(class_mapping[str(row['class'])]) + ' ' + str(row['x']) + ' ' + str(row['y']) + ' '  + str(row['width']) + ' '  + str(row['height']) + '\\n')"
   ]
  },
  {
   "cell_type": "code",
   "execution_count": null,
   "id": "c9b617ab",
   "metadata": {},
   "outputs": [],
   "source": []
  }
 ],
 "metadata": {
  "kernelspec": {
   "display_name": "Python (mlenv)",
   "language": "python",
   "name": "mlenv"
  },
  "language_info": {
   "codemirror_mode": {
    "name": "ipython",
    "version": 3
   },
   "file_extension": ".py",
   "mimetype": "text/x-python",
   "name": "python",
   "nbconvert_exporter": "python",
   "pygments_lexer": "ipython3",
   "version": "3.8.13"
  }
 },
 "nbformat": 4,
 "nbformat_minor": 5
}
